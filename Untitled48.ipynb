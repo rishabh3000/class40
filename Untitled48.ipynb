{
 "cells": [
  {
   "cell_type": "code",
   "execution_count": 27,
   "metadata": {},
   "outputs": [],
   "source": [
    "def alphabet(word):\n",
    "    \n",
    "    allDictTwo = {\"a\" : 1, \"b\" : 2, \"c\" : 3, \"d\" : 4, \"e\" : 5, \"f\" : 6, \"g\" : 7, \"h\" : 8, \"i\" : 9, \"j\" : 10,\n",
    "                  \"k\" : 11, \"l\" : 12, \"m\" : 13, \"n\" : 14, \"o\" : 15, \"p\" : 16, \"q\" : 17, \"r\" : 18, \"s\" : 19, \"t\" : 20, \"u\" : 21, \"v\" : 26,\n",
    "                  \"w\" : 23, \"x\" : 24, \"y\" : 25, \"z\" : 26}\n",
    "    return allDictTwo[word]\n",
    "    "
   ]
  },
  {
   "cell_type": "code",
   "execution_count": 39,
   "metadata": {},
   "outputs": [
    {
     "name": "stdout",
     "output_type": "stream",
     "text": [
      "r equal  18\n",
      "i equal  9\n",
      "s equal  19\n",
      "h equal  8\n",
      "a equal  1\n",
      "b equal  2\n",
      "h equal  8\n"
     ]
    }
   ],
   "source": [
    "\n",
    "a=\"Rishabh\"\n",
    "a=list(a)\n",
    "for i in a:\n",
    "    i=i.lower()\n",
    "    print(i+\" equal \",alphabet(i))\n",
    "\n"
   ]
  },
  {
   "cell_type": "code",
   "execution_count": 31,
   "metadata": {},
   "outputs": [
    {
     "name": "stdout",
     "output_type": "stream",
     "text": [
      "[1, 1, 4, 1, 18, 19, 8]\n"
     ]
    }
   ],
   "source": [
    "letters = \"aadarsh\"\n",
    "\n",
    "numbers = []\n",
    "for letter in letters:\n",
    "  number = ord(letter) - 96\n",
    "  numbers.append(number)\n",
    "\n",
    "print(numbers)\n"
   ]
  },
  {
   "cell_type": "code",
   "execution_count": 6,
   "metadata": {},
   "outputs": [
    {
     "name": "stdout",
     "output_type": "stream",
     "text": [
      "enter the no of rows10\n",
      "          *\n",
      "\n",
      "         ***\n",
      "\n",
      "        *****\n",
      "\n",
      "       *******\n",
      "\n",
      "      *********\n",
      "\n",
      "     ***********\n",
      "\n",
      "    *************\n",
      "\n",
      "   ***************\n",
      "\n",
      "  *****************\n",
      "\n",
      " *******************\n",
      "\n"
     ]
    }
   ],
   "source": [
    "n=int(input(\"enter the no of rows\"))\n",
    "space=n-1\n",
    "for i in range (1,n+1):\n",
    "    for j in range(0,space+1):\n",
    "        print(end=\" \")\n",
    "    space=space-1\n",
    "    for j in range(0,(2*i-1)):\n",
    "        print(\"*\",end=\"\")\n",
    "    print('\\n')    \n",
    "    \n",
    "    \n",
    "        \n",
    "    "
   ]
  },
  {
   "cell_type": "code",
   "execution_count": null,
   "metadata": {},
   "outputs": [],
   "source": []
  },
  {
   "cell_type": "markdown",
   "metadata": {},
   "source": [
    "\n",
    "        "
   ]
  }
 ],
 "metadata": {
  "kernelspec": {
   "display_name": "Python 3",
   "language": "python",
   "name": "python3"
  },
  "language_info": {
   "codemirror_mode": {
    "name": "ipython",
    "version": 3
   },
   "file_extension": ".py",
   "mimetype": "text/x-python",
   "name": "python",
   "nbconvert_exporter": "python",
   "pygments_lexer": "ipython3",
   "version": "3.8.3"
  }
 },
 "nbformat": 4,
 "nbformat_minor": 4
}
